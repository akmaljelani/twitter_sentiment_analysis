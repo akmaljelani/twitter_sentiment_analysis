{
  "nbformat": 4,
  "nbformat_minor": 0,
  "metadata": {
    "colab": {
      "provenance": []
    },
    "kernelspec": {
      "name": "python3",
      "display_name": "Python 3"
    },
    "language_info": {
      "name": "python"
    }
  },
  "cells": [
    {
      "cell_type": "code",
      "execution_count": null,
      "metadata": {
        "colab": {
          "base_uri": "https://localhost:8080/",
          "height": 85
        },
        "id": "i1oRzfGbWALS",
        "outputId": "bdd7ef48-4f2d-4e04-c7db-e9e52f924c3f"
      },
      "outputs": [
        {
          "output_type": "display_data",
          "data": {
            "text/plain": [
              "<Figure size 288x72 with 1 Axes>"
            ],
            "image/png": "[encoded data removed]"
          },
          "metadata": {}
        }
      ],
      "source": [
        "import pandas as pd \n",
        "import numpy as np \n",
        "pd.set_option('display.max_columns', None) # code to display all columns\n",
        "\n",
        "#\n",
        "import matplotlib.pyplot as plt\n",
        "import seaborn as sns\n",
        "%matplotlib inline\n",
        "from datetime import date, datetime\n",
        "\n",
        "from sklearn.preprocessing import OneHotEncoder, OrdinalEncoder, StandardScaler # For handling categorical column and scaling numeric columns\n",
        "\n",
        "# Libraries for clustering and evaluation\n",
        "from sklearn.cluster import KMeans\n",
        "from yellowbrick.cluster import KElbowVisualizer\n",
        "from sklearn.metrics import silhouette_score\n",
        "\n",
        "import warnings\n",
        "warnings.filterwarnings(\"ignore\") # To prevent kernel from showing any warning\n",
        "\n",
        "# # set the color palette\n",
        "# palette = sns.color_palette([\"#292859\",'#373482','#504DB6','#5B59DD'])\n",
        "# sns.palplot(palette)"
      ]
    },
    {
      "cell_type": "code",
      "source": [],
      "metadata": {
        "colab": {
          "base_uri": "https://localhost:8080/",
          "height": 357
        },
        "id": "Y_Nn_RRowVe9",
        "outputId": "f2ddbb0d-95ee-4b90-aae2-4cddf7c1cb15"
      },
      "execution_count": null,
      "outputs": [
        {
          "output_type": "execute_result",
          "data": {
            "text/plain": [
              "          loanId                          anon_ssn payFrequency     apr  \\\n",
              "0  LL-I-00003578  5f079f3b9f0e103b6f5cc9f0c8b25dcd            B  478.67   \n",
              "1  LL-I-00003578  5f079f3b9f0e103b6f5cc9f0c8b25dcd            B  478.67   \n",
              "2  LL-I-00003578  5f079f3b9f0e103b6f5cc9f0c8b25dcd            B  478.67   \n",
              "3  LL-I-00003578  5f079f3b9f0e103b6f5cc9f0c8b25dcd            B  478.67   \n",
              "4  LL-I-00003578  5f079f3b9f0e103b6f5cc9f0c8b25dcd            B  478.67   \n",
              "\n",
              "           applicationDate  originated           originatedDate  nPaidOff  \\\n",
              "0  2014-12-04 21:30:27.564        True  2014-12-05 15:28:07.491       1.0   \n",
              "1  2014-12-04 21:30:27.564        True  2014-12-05 15:28:07.491       1.0   \n",
              "2  2014-12-04 21:30:27.564        True  2014-12-05 15:28:07.491       1.0   \n",
              "3  2014-12-04 21:30:27.564        True  2014-12-05 15:28:07.491       1.0   \n",
              "4  2014-12-04 21:30:27.564        True  2014-12-05 15:28:07.491       1.0   \n",
              "\n",
              "   approved  isFunded     loanStatus  loanAmount  \\\n",
              "0      True         1  Paid Off Loan       800.0   \n",
              "1      True         1  Paid Off Loan       800.0   \n",
              "2      True         1  Paid Off Loan       800.0   \n",
              "3      True         1  Paid Off Loan       800.0   \n",
              "4      True         1  Paid Off Loan       800.0   \n",
              "\n",
              "   originallyScheduledPaymentAmount state leadType  leadCost fpStatus  hasCF  \\\n",
              "0                           1919.28    OH     lead        25  Checked      0   \n",
              "1                           1919.28    OH     lead        25  Checked      0   \n",
              "2                           1919.28    OH     lead        25  Checked      0   \n",
              "3                           1919.28    OH     lead        25  Checked      0   \n",
              "4                           1919.28    OH     lead        25  Checked      0   \n",
              "\n",
              "   installmentIndex  isCollection              paymentDate  principal    fees  \\\n",
              "0                 3         False  2015-01-07 05:00:00.000     412.82   88.18   \n",
              "1                 8         False  2015-02-24 05:00:00.000      53.47  121.01   \n",
              "2                 9         False  2015-03-10 04:00:00.000      63.31  111.17   \n",
              "3                10         False  2015-03-24 04:00:00.000      74.96   99.52   \n",
              "4                11         False  2015-04-07 04:00:00.000      88.77   85.71   \n",
              "\n",
              "   paymentAmount paymentStatus  year     month     year_month  day  \n",
              "0         500.00       Checked  2014  December  December 2014    4  \n",
              "1         174.48     Cancelled  2014  December  December 2014    4  \n",
              "2         174.48     Cancelled  2014  December  December 2014    4  \n",
              "3         174.48     Cancelled  2014  December  December 2014    4  \n",
              "4         174.48     Cancelled  2014  December  December 2014    4  "
            ],
            "text/html": [
              "\n",
              "  <div id=\"df-d5aea2d7-3952-4888-9f44-0450f022be38\">\n",
              "    <div class=\"colab-df-container\">\n",
              "      <div>\n",
              "<style scoped>\n",
              "    .dataframe tbody tr th:only-of-type {\n",
              "        vertical-align: middle;\n",
              "    }\n",
              "\n",
              "    .dataframe tbody tr th {\n",
              "        vertical-align: top;\n",
              "    }\n",
              "\n",
              "    .dataframe thead th {\n",
              "        text-align: right;\n",
              "    }\n",
              "</style>\n",
              "<table border=\"1\" class=\"dataframe\">\n",
              "  <thead>\n",
              "    <tr style=\"text-align: right;\">\n",
              "      <th></th>\n",
              "      <th>loanId</th>\n",
              "      <th>anon_ssn</th>\n",
              "      <th>payFrequency</th>\n",
              "      <th>apr</th>\n",
              "      <th>applicationDate</th>\n",
              "      <th>originated</th>\n",
              "      <th>originatedDate</th>\n",
              "      <th>nPaidOff</th>\n",
              "      <th>approved</th>\n",
              "      <th>isFunded</th>\n",
              "      <th>loanStatus</th>\n",
              "      <th>loanAmount</th>\n",
              "      <th>originallyScheduledPaymentAmount</th>\n",
              "      <th>state</th>\n",
              "      <th>leadType</th>\n",
              "      <th>leadCost</th>\n",
              "      <th>fpStatus</th>\n",
              "      <th>hasCF</th>\n",
              "      <th>installmentIndex</th>\n",
              "      <th>isCollection</th>\n",
              "      <th>paymentDate</th>\n",
              "      <th>principal</th>\n",
              "      <th>fees</th>\n",
              "      <th>paymentAmount</th>\n",
              "      <th>paymentStatus</th>\n",
              "      <th>year</th>\n",
              "      <th>month</th>\n",
              "      <th>year_month</th>\n",
              "      <th>day</th>\n",
              "    </tr>\n",
              "  </thead>\n",
              "  <tbody>\n",
              "    <tr>\n",
              "      <th>0</th>\n",
              "      <td>LL-I-00003578</td>\n",
              "      <td>5f079f3b9f0e103b6f5cc9f0c8b25dcd</td>\n",
              "      <td>B</td>\n",
              "      <td>478.67</td>\n",
              "      <td>2014-12-04 21:30:27.564</td>\n",
              "      <td>True</td>\n",
              "      <td>2014-12-05 15:28:07.491</td>\n",
              "      <td>1.0</td>\n",
              "      <td>True</td>\n",
              "      <td>1</td>\n",
              "      <td>Paid Off Loan</td>\n",
              "      <td>800.0</td>\n",
              "      <td>1919.28</td>\n",
              "      <td>OH</td>\n",
              "      <td>lead</td>\n",
              "      <td>25</td>\n",
              "      <td>Checked</td>\n",
              "      <td>0</td>\n",
              "      <td>3</td>\n",
              "      <td>False</td>\n",
              "      <td>2015-01-07 05:00:00.000</td>\n",
              "      <td>412.82</td>\n",
              "      <td>88.18</td>\n",
              "      <td>500.00</td>\n",
              "      <td>Checked</td>\n",
              "      <td>2014</td>\n",
              "      <td>December</td>\n",
              "      <td>December 2014</td>\n",
              "      <td>4</td>\n",
              "    </tr>\n",
              "    <tr>\n",
              "      <th>1</th>\n",
              "      <td>LL-I-00003578</td>\n",
              "      <td>5f079f3b9f0e103b6f5cc9f0c8b25dcd</td>\n",
              "      <td>B</td>\n",
              "      <td>478.67</td>\n",
              "      <td>2014-12-04 21:30:27.564</td>\n",
              "      <td>True</td>\n",
              "      <td>2014-12-05 15:28:07.491</td>\n",
              "      <td>1.0</td>\n",
              "      <td>True</td>\n",
              "      <td>1</td>\n",
              "      <td>Paid Off Loan</td>\n",
              "      <td>800.0</td>\n",
              "      <td>1919.28</td>\n",
              "      <td>OH</td>\n",
              "      <td>lead</td>\n",
              "      <td>25</td>\n",
              "      <td>Checked</td>\n",
              "      <td>0</td>\n",
              "      <td>8</td>\n",
              "      <td>False</td>\n",
              "      <td>2015-02-24 05:00:00.000</td>\n",
              "      <td>53.47</td>\n",
              "      <td>121.01</td>\n",
              "      <td>174.48</td>\n",
              "      <td>Cancelled</td>\n",
              "      <td>2014</td>\n",
              "      <td>December</td>\n",
              "      <td>December 2014</td>\n",
              "      <td>4</td>\n",
              "    </tr>\n",
              "    <tr>\n",
              "      <th>2</th>\n",
              "      <td>LL-I-00003578</td>\n",
              "      <td>5f079f3b9f0e103b6f5cc9f0c8b25dcd</td>\n",
              "      <td>B</td>\n",
              "      <td>478.67</td>\n",
              "      <td>2014-12-04 21:30:27.564</td>\n",
              "      <td>True</td>\n",
              "      <td>2014-12-05 15:28:07.491</td>\n",
              "      <td>1.0</td>\n",
              "      <td>True</td>\n",
              "      <td>1</td>\n",
              "      <td>Paid Off Loan</td>\n",
              "      <td>800.0</td>\n",
              "      <td>1919.28</td>\n",
              "      <td>OH</td>\n",
              "      <td>lead</td>\n",
              "      <td>25</td>\n",
              "      <td>Checked</td>\n",
              "      <td>0</td>\n",
              "      <td>9</td>\n",
              "      <td>False</td>\n",
              "      <td>2015-03-10 04:00:00.000</td>\n",
              "      <td>63.31</td>\n",
              "      <td>111.17</td>\n",
              "      <td>174.48</td>\n",
              "      <td>Cancelled</td>\n",
              "      <td>2014</td>\n",
              "      <td>December</td>\n",
              "      <td>December 2014</td>\n",
              "      <td>4</td>\n",
              "    </tr>\n",
              "    <tr>\n",
              "      <th>3</th>\n",
              "      <td>LL-I-00003578</td>\n",
              "      <td>5f079f3b9f0e103b6f5cc9f0c8b25dcd</td>\n",
              "      <td>B</td>\n",
              "      <td>478.67</td>\n",
              "      <td>2014-12-04 21:30:27.564</td>\n",
              "      <td>True</td>\n",
              "      <td>2014-12-05 15:28:07.491</td>\n",
              "      <td>1.0</td>\n",
              "      <td>True</td>\n",
              "      <td>1</td>\n",
              "      <td>Paid Off Loan</td>\n",
              "      <td>800.0</td>\n",
              "      <td>1919.28</td>\n",
              "      <td>OH</td>\n",
              "      <td>lead</td>\n",
              "      <td>25</td>\n",
              "      <td>Checked</td>\n",
              "      <td>0</td>\n",
              "      <td>10</td>\n",
              "      <td>False</td>\n",
              "      <td>2015-03-24 04:00:00.000</td>\n",
              "      <td>74.96</td>\n",
              "      <td>99.52</td>\n",
              "      <td>174.48</td>\n",
              "      <td>Cancelled</td>\n",
              "      <td>2014</td>\n",
              "      <td>December</td>\n",
              "      <td>December 2014</td>\n",
              "      <td>4</td>\n",
              "    </tr>\n",
              "    <tr>\n",
              "      <th>4</th>\n",
              "      <td>LL-I-00003578</td>\n",
              "      <td>5f079f3b9f0e103b6f5cc9f0c8b25dcd</td>\n",
              "      <td>B</td>\n",
              "      <td>478.67</td>\n",
              "      <td>2014-12-04 21:30:27.564</td>\n",
              "      <td>True</td>\n",
              "      <td>2014-12-05 15:28:07.491</td>\n",
              "      <td>1.0</td>\n",
              "      <td>True</td>\n",
              "      <td>1</td>\n",
              "      <td>Paid Off Loan</td>\n",
              "      <td>800.0</td>\n",
              "      <td>1919.28</td>\n",
              "      <td>OH</td>\n",
              "      <td>lead</td>\n",
              "      <td>25</td>\n",
              "      <td>Checked</td>\n",
              "      <td>0</td>\n",
              "      <td>11</td>\n",
              "      <td>False</td>\n",
              "      <td>2015-04-07 04:00:00.000</td>\n",
              "      <td>88.77</td>\n",
              "      <td>85.71</td>\n",
              "      <td>174.48</td>\n",
              "      <td>Cancelled</td>\n",
              "      <td>2014</td>\n",
              "      <td>December</td>\n",
              "      <td>December 2014</td>\n",
              "      <td>4</td>\n",
              "    </tr>\n",
              "  </tbody>\n",
              "</table>\n",
              "</div>\n",
              "      <button class=\"colab-df-convert\" onclick=\"convertToInteractive('df-d5aea2d7-3952-4888-9f44-0450f022be38')\"\n",
              "              title=\"Convert this dataframe to an interactive table.\"\n",
              "              style=\"display:none;\">\n",
              "        \n",
              "  <svg xmlns=\"http://www.w3.org/2000/svg\" height=\"24px\"viewBox=\"0 0 24 24\"\n",
              "       width=\"24px\">\n",
              "    <path d=\"M0 0h24v24H0V0z\" fill=\"none\"/>\n",
              "    <path d=\"M18.56 5.44l.94 2.06.94-2.06 2.06-.94-2.06-.94-.94-2.06-.94 2.06-2.06.94zm-11 1L8.5 8.5l.94-2.06 2.06-.94-2.06-.94L8.5 2.5l-.94 2.06-2.06.94zm10 10l.94 2.06.94-2.06 2.06-.94-2.06-.94-.94-2.06-.94 2.06-2.06.94z\"/><path d=\"M17.41 7.96l-1.37-1.37c-.4-.4-.92-.59-1.43-.59-.52 0-1.04.2-1.43.59L10.3 9.45l-7.72 7.72c-.78.78-.78 2.05 0 2.83L4 21.41c.39.39.9.59 1.41.59.51 0 1.02-.2 1.41-.59l7.78-7.78 2.81-2.81c.8-.78.8-2.07 0-2.86zM5.41 20L4 18.59l7.72-7.72 1.47 1.35L5.41 20z\"/>\n",
              "  </svg>\n",
              "      </button>\n",
              "      \n",
              "  <style>\n",
              "    .colab-df-container {\n",
              "      display:flex;\n",
              "      flex-wrap:wrap;\n",
              "      gap: 12px;\n",
              "    }\n",
              "\n",
              "    .colab-df-convert {\n",
              "      background-color: #E8F0FE;\n",
              "      border: none;\n",
              "      border-radius: 50%;\n",
              "      cursor: pointer;\n",
              "      display: none;\n",
              "      fill: #1967D2;\n",
              "      height: 32px;\n",
              "      padding: 0 0 0 0;\n",
              "      width: 32px;\n",
              "    }\n",
              "\n",
              "    .colab-df-convert:hover {\n",
              "      background-color: #E2EBFA;\n",
              "      box-shadow: 0px 1px 2px rgba(60, 64, 67, 0.3), 0px 1px 3px 1px rgba(60, 64, 67, 0.15);\n",
              "      fill: #174EA6;\n",
              "    }\n",
              "\n",
              "    [theme=dark] .colab-df-convert {\n",
              "      background-color: #3B4455;\n",
              "      fill: #D2E3FC;\n",
              "    }\n",
              "\n",
              "    [theme=dark] .colab-df-convert:hover {\n",
              "      background-color: #434B5C;\n",
              "      box-shadow: 0px 1px 3px 1px rgba(0, 0, 0, 0.15);\n",
              "      filter: drop-shadow(0px 1px 2px rgba(0, 0, 0, 0.3));\n",
              "      fill: #FFFFFF;\n",
              "    }\n",
              "  </style>\n",
              "\n",
              "      <script>\n",
              "        const buttonEl =\n",
              "          document.querySelector('#df-d5aea2d7-3952-4888-9f44-0450f022be38 button.colab-df-convert');\n",
              "        buttonEl.style.display =\n",
              "          google.colab.kernel.accessAllowed ? 'block' : 'none';\n",
              "\n",
              "        async function convertToInteractive(key) {\n",
              "          const element = document.querySelector('#df-d5aea2d7-3952-4888-9f44-0450f022be38');\n",
              "          const dataTable =\n",
              "            await google.colab.kernel.invokeFunction('convertToInteractive',\n",
              "                                                     [key], {});\n",
              "          if (!dataTable) return;\n",
              "\n",
              "          const docLinkHtml = 'Like what you see? Visit the ' +\n",
              "            '<a target=\"_blank\" href=https://colab.research.google.com/notebooks/data_table.ipynb>data table notebook</a>'\n",
              "            + ' to learn more about interactive tables.';\n",
              "          element.innerHTML = '';\n",
              "          dataTable['output_type'] = 'display_data';\n",
              "          await google.colab.output.renderOutput(dataTable, element);\n",
              "          const docLink = document.createElement('div');\n",
              "          docLink.innerHTML = docLinkHtml;\n",
              "          element.appendChild(docLink);\n",
              "        }\n",
              "      </script>\n",
              "    </div>\n",
              "  </div>\n",
              "  "
            ]
          },
          "metadata": {},
          "execution_count": 2
        }
      ]
    },
    {
      "cell_type": "code",
      "source": [
        "df[['applicationDate', 'originatedDate', 'paymentDate']] = df[['applicationDate', 'originatedDate', 'paymentDate']].apply(pd.to_datetime)\n",
        "df.dtypes"
      ],
      "metadata": {
        "colab": {
          "base_uri": "https://localhost:8080/"
        },
        "id": "zkmQBZ6Tw3Vt",
        "outputId": "ed1ad287-6890-4233-ba69-48285892f084"
      },
      "execution_count": null,
      "outputs": [
        {
          "output_type": "execute_result",
          "data": {
            "text/plain": [
              "loanId                                      object\n",
              "anon_ssn                                    object\n",
              "payFrequency                                object\n",
              "apr                                        float64\n",
              "applicationDate                     datetime64[ns]\n",
              "originated                                    bool\n",
              "originatedDate                      datetime64[ns]\n",
              "nPaidOff                                   float64\n",
              "approved                                      bool\n",
              "isFunded                                     int64\n",
              "loanStatus                                  object\n",
              "loanAmount                                 float64\n",
              "originallyScheduledPaymentAmount           float64\n",
              "state                                       object\n",
              "leadType                                    object\n",
              "leadCost                                     int64\n",
              "fpStatus                                    object\n",
              "hasCF                                        int64\n",
              "installmentIndex                             int64\n",
              "isCollection                                  bool\n",
              "paymentDate                         datetime64[ns]\n",
              "principal                                  float64\n",
              "fees                                       float64\n",
              "paymentAmount                              float64\n",
              "paymentStatus                               object\n",
              "year                                         int64\n",
              "month                                       object\n",
              "year_month                                  object\n",
              "day                                          int64\n",
              "dtype: object"
            ]
          },
          "metadata": {},
          "execution_count": 7
        }
      ]
    },
    {
      "cell_type": "code",
      "source": [
        "df_nan = df.isna().sum()\n",
        "\n",
        "print(df_nan)"
      ],
      "metadata": {
        "colab": {
          "base_uri": "https://localhost:8080/"
        },
        "id": "EfQOsY_4xuMR",
        "outputId": "d6b3bd62-0322-468f-9d50-9ef319d28de8"
      },
      "execution_count": null,
      "outputs": [
        {
          "output_type": "stream",
          "name": "stdout",
          "text": [
            "loanId                              0\n",
            "anon_ssn                            0\n",
            "payFrequency                        0\n",
            "apr                                 0\n",
            "applicationDate                     0\n",
            "originated                          0\n",
            "originatedDate                      0\n",
            "nPaidOff                            0\n",
            "approved                            0\n",
            "isFunded                            0\n",
            "loanStatus                          0\n",
            "loanAmount                          0\n",
            "originallyScheduledPaymentAmount    0\n",
            "state                               0\n",
            "leadType                            0\n",
            "leadCost                            0\n",
            "fpStatus                            0\n",
            "hasCF                               0\n",
            "installmentIndex                    0\n",
            "isCollection                        0\n",
            "paymentDate                         0\n",
            "principal                           0\n",
            "fees                                0\n",
            "paymentAmount                       0\n",
            "paymentStatus                       0\n",
            "year                                0\n",
            "month                               0\n",
            "year_month                          0\n",
            "day                                 0\n",
            "dtype: int64\n"
          ]
        }
      ]
    },
    {
      "cell_type": "code",
      "source": [
        "## create a subset df\n",
        "## excluding 'state' to make it more feasible\n",
        "\n",
        "subset = df[['loanStatus', 'loanAmount', 'leadType', \n",
        "             'paymentAmount', 'paymentStatus', 'month', 'year']]\n",
        "\n",
        "subset.head()"
      ],
      "metadata": {
        "colab": {
          "base_uri": "https://localhost:8080/",
          "height": 206
        },
        "id": "A7gt9f6fx4CA",
        "outputId": "7babb871-76c2-44ba-adea-3bb319262f49"
      },
      "execution_count": null,
      "outputs": [
        {
          "output_type": "execute_result",
          "data": {
            "text/plain": [
              "      loanStatus  loanAmount leadType  paymentAmount paymentStatus     month  \\\n",
              "0  Paid Off Loan       800.0     lead         500.00       Checked  December   \n",
              "1  Paid Off Loan       800.0     lead         174.48     Cancelled  December   \n",
              "2  Paid Off Loan       800.0     lead         174.48     Cancelled  December   \n",
              "3  Paid Off Loan       800.0     lead         174.48     Cancelled  December   \n",
              "4  Paid Off Loan       800.0     lead         174.48     Cancelled  December   \n",
              "\n",
              "   year  \n",
              "0  2014  \n",
              "1  2014  \n",
              "2  2014  \n",
              "3  2014  \n",
              "4  2014  "
            ],
            "text/html": [
              "\n",
              "  <div id=\"df-b9459126-421c-49c5-9181-ca958d608a04\">\n",
              "    <div class=\"colab-df-container\">\n",
              "      <div>\n",
              "<style scoped>\n",
              "    .dataframe tbody tr th:only-of-type {\n",
              "        vertical-align: middle;\n",
              "    }\n",
              "\n",
              "    .dataframe tbody tr th {\n",
              "        vertical-align: top;\n",
              "    }\n",
              "\n",
              "    .dataframe thead th {\n",
              "        text-align: right;\n",
              "    }\n",
              "</style>\n",
              "<table border=\"1\" class=\"dataframe\">\n",
              "  <thead>\n",
              "    <tr style=\"text-align: right;\">\n",
              "      <th></th>\n",
              "      <th>loanStatus</th>\n",
              "      <th>loanAmount</th>\n",
              "      <th>leadType</th>\n",
              "      <th>paymentAmount</th>\n",
              "      <th>paymentStatus</th>\n",
              "      <th>month</th>\n",
              "      <th>year</th>\n",
              "    </tr>\n",
              "  </thead>\n",
              "  <tbody>\n",
              "    <tr>\n",
              "      <th>0</th>\n",
              "      <td>Paid Off Loan</td>\n",
              "      <td>800.0</td>\n",
              "      <td>lead</td>\n",
              "      <td>500.00</td>\n",
              "      <td>Checked</td>\n",
              "      <td>December</td>\n",
              "      <td>2014</td>\n",
              "    </tr>\n",
              "    <tr>\n",
              "      <th>1</th>\n",
              "      <td>Paid Off Loan</td>\n",
              "      <td>800.0</td>\n",
              "      <td>lead</td>\n",
              "      <td>174.48</td>\n",
              "      <td>Cancelled</td>\n",
              "      <td>December</td>\n",
              "      <td>2014</td>\n",
              "    </tr>\n",
              "    <tr>\n",
              "      <th>2</th>\n",
              "      <td>Paid Off Loan</td>\n",
              "      <td>800.0</td>\n",
              "      <td>lead</td>\n",
              "      <td>174.48</td>\n",
              "      <td>Cancelled</td>\n",
              "      <td>December</td>\n",
              "      <td>2014</td>\n",
              "    </tr>\n",
              "    <tr>\n",
              "      <th>3</th>\n",
              "      <td>Paid Off Loan</td>\n",
              "      <td>800.0</td>\n",
              "      <td>lead</td>\n",
              "      <td>174.48</td>\n",
              "      <td>Cancelled</td>\n",
              "      <td>December</td>\n",
              "      <td>2014</td>\n",
              "    </tr>\n",
              "    <tr>\n",
              "      <th>4</th>\n",
              "      <td>Paid Off Loan</td>\n",
              "      <td>800.0</td>\n",
              "      <td>lead</td>\n",
              "      <td>174.48</td>\n",
              "      <td>Cancelled</td>\n",
              "      <td>December</td>\n",
              "      <td>2014</td>\n",
              "    </tr>\n",
              "  </tbody>\n",
              "</table>\n",
              "</div>\n",
              "      <button class=\"colab-df-convert\" onclick=\"convertToInteractive('df-b9459126-421c-49c5-9181-ca958d608a04')\"\n",
              "              title=\"Convert this dataframe to an interactive table.\"\n",
              "              style=\"display:none;\">\n",
              "        \n",
              "  <svg xmlns=\"http://www.w3.org/2000/svg\" height=\"24px\"viewBox=\"0 0 24 24\"\n",
              "       width=\"24px\">\n",
              "    <path d=\"M0 0h24v24H0V0z\" fill=\"none\"/>\n",
              "    <path d=\"M18.56 5.44l.94 2.06.94-2.06 2.06-.94-2.06-.94-.94-2.06-.94 2.06-2.06.94zm-11 1L8.5 8.5l.94-2.06 2.06-.94-2.06-.94L8.5 2.5l-.94 2.06-2.06.94zm10 10l.94 2.06.94-2.06 2.06-.94-2.06-.94-.94-2.06-.94 2.06-2.06.94z\"/><path d=\"M17.41 7.96l-1.37-1.37c-.4-.4-.92-.59-1.43-.59-.52 0-1.04.2-1.43.59L10.3 9.45l-7.72 7.72c-.78.78-.78 2.05 0 2.83L4 21.41c.39.39.9.59 1.41.59.51 0 1.02-.2 1.41-.59l7.78-7.78 2.81-2.81c.8-.78.8-2.07 0-2.86zM5.41 20L4 18.59l7.72-7.72 1.47 1.35L5.41 20z\"/>\n",
              "  </svg>\n",
              "      </button>\n",
              "      \n",
              "  <style>\n",
              "    .colab-df-container {\n",
              "      display:flex;\n",
              "      flex-wrap:wrap;\n",
              "      gap: 12px;\n",
              "    }\n",
              "\n",
              "    .colab-df-convert {\n",
              "      background-color: #E8F0FE;\n",
              "      border: none;\n",
              "      border-radius: 50%;\n",
              "      cursor: pointer;\n",
              "      display: none;\n",
              "      fill: #1967D2;\n",
              "      height: 32px;\n",
              "      padding: 0 0 0 0;\n",
              "      width: 32px;\n",
              "    }\n",
              "\n",
              "    .colab-df-convert:hover {\n",
              "      background-color: #E2EBFA;\n",
              "      box-shadow: 0px 1px 2px rgba(60, 64, 67, 0.3), 0px 1px 3px 1px rgba(60, 64, 67, 0.15);\n",
              "      fill: #174EA6;\n",
              "    }\n",
              "\n",
              "    [theme=dark] .colab-df-convert {\n",
              "      background-color: #3B4455;\n",
              "      fill: #D2E3FC;\n",
              "    }\n",
              "\n",
              "    [theme=dark] .colab-df-convert:hover {\n",
              "      background-color: #434B5C;\n",
              "      box-shadow: 0px 1px 3px 1px rgba(0, 0, 0, 0.15);\n",
              "      filter: drop-shadow(0px 1px 2px rgba(0, 0, 0, 0.3));\n",
              "      fill: #FFFFFF;\n",
              "    }\n",
              "  </style>\n",
              "\n",
              "      <script>\n",
              "        const buttonEl =\n",
              "          document.querySelector('#df-b9459126-421c-49c5-9181-ca958d608a04 button.colab-df-convert');\n",
              "        buttonEl.style.display =\n",
              "          google.colab.kernel.accessAllowed ? 'block' : 'none';\n",
              "\n",
              "        async function convertToInteractive(key) {\n",
              "          const element = document.querySelector('#df-b9459126-421c-49c5-9181-ca958d608a04');\n",
              "          const dataTable =\n",
              "            await google.colab.kernel.invokeFunction('convertToInteractive',\n",
              "                                                     [key], {});\n",
              "          if (!dataTable) return;\n",
              "\n",
              "          const docLinkHtml = 'Like what you see? Visit the ' +\n",
              "            '<a target=\"_blank\" href=https://colab.research.google.com/notebooks/data_table.ipynb>data table notebook</a>'\n",
              "            + ' to learn more about interactive tables.';\n",
              "          element.innerHTML = '';\n",
              "          dataTable['output_type'] = 'display_data';\n",
              "          await google.colab.output.renderOutput(dataTable, element);\n",
              "          const docLink = document.createElement('div');\n",
              "          docLink.innerHTML = docLinkHtml;\n",
              "          element.appendChild(docLink);\n",
              "        }\n",
              "      </script>\n",
              "    </div>\n",
              "  </div>\n",
              "  "
            ]
          },
          "metadata": {},
          "execution_count": 26
        }
      ]
    },
    {
      "cell_type": "code",
      "source": [
        "subset.describe()"
      ],
      "metadata": {
        "colab": {
          "base_uri": "https://localhost:8080/",
          "height": 300
        },
        "id": "VDo5LtLkzae8",
        "outputId": "4e63c038-f033-4211-cd92-b0ed9cd73922"
      },
      "execution_count": null,
      "outputs": [
        {
          "output_type": "execute_result",
          "data": {
            "text/plain": [
              "          loanAmount  paymentAmount           year       Clusters\n",
              "count  671275.000000  671275.000000  671275.000000  671275.000000\n",
              "mean      681.929332     112.421473    2016.011958       1.163616\n",
              "std       576.883609     104.692433       0.704073       1.048549\n",
              "min       100.000000    -337.700000    2014.000000       0.000000\n",
              "25%       375.000000      56.810000    2016.000000       0.000000\n",
              "50%       500.000000      86.340000    2016.000000       1.000000\n",
              "75%       700.000000     135.050000    2017.000000       2.000000\n",
              "max      4687.000000    4063.600000    2017.000000       3.000000"
            ],
            "text/html": [
              "\n",
              "  <div id=\"df-de012159-94a8-4f92-9555-acff75d71d6f\">\n",
              "    <div class=\"colab-df-container\">\n",
              "      <div>\n",
              "<style scoped>\n",
              "    .dataframe tbody tr th:only-of-type {\n",
              "        vertical-align: middle;\n",
              "    }\n",
              "\n",
              "    .dataframe tbody tr th {\n",
              "        vertical-align: top;\n",
              "    }\n",
              "\n",
              "    .dataframe thead th {\n",
              "        text-align: right;\n",
              "    }\n",
              "</style>\n",
              "<table border=\"1\" class=\"dataframe\">\n",
              "  <thead>\n",
              "    <tr style=\"text-align: right;\">\n",
              "      <th></th>\n",
              "      <th>loanAmount</th>\n",
              "      <th>paymentAmount</th>\n",
              "      <th>year</th>\n",
              "      <th>Clusters</th>\n",
              "    </tr>\n",
              "  </thead>\n",
              "  <tbody>\n",
              "    <tr>\n",
              "      <th>count</th>\n",
              "      <td>671275.000000</td>\n",
              "      <td>671275.000000</td>\n",
              "      <td>671275.000000</td>\n",
              "      <td>671275.000000</td>\n",
              "    </tr>\n",
              "    <tr>\n",
              "      <th>mean</th>\n",
              "      <td>681.929332</td>\n",
              "      <td>112.421473</td>\n",
              "      <td>2016.011958</td>\n",
              "      <td>1.163616</td>\n",
              "    </tr>\n",
              "    <tr>\n",
              "      <th>std</th>\n",
              "      <td>576.883609</td>\n",
              "      <td>104.692433</td>\n",
              "      <td>0.704073</td>\n",
              "      <td>1.048549</td>\n",
              "    </tr>\n",
              "    <tr>\n",
              "      <th>min</th>\n",
              "      <td>100.000000</td>\n",
              "      <td>-337.700000</td>\n",
              "      <td>2014.000000</td>\n",
              "      <td>0.000000</td>\n",
              "    </tr>\n",
              "    <tr>\n",
              "      <th>25%</th>\n",
              "      <td>375.000000</td>\n",
              "      <td>56.810000</td>\n",
              "      <td>2016.000000</td>\n",
              "      <td>0.000000</td>\n",
              "    </tr>\n",
              "    <tr>\n",
              "      <th>50%</th>\n",
              "      <td>500.000000</td>\n",
              "      <td>86.340000</td>\n",
              "      <td>2016.000000</td>\n",
              "      <td>1.000000</td>\n",
              "    </tr>\n",
              "    <tr>\n",
              "      <th>75%</th>\n",
              "      <td>700.000000</td>\n",
              "      <td>135.050000</td>\n",
              "      <td>2017.000000</td>\n",
              "      <td>2.000000</td>\n",
              "    </tr>\n",
              "    <tr>\n",
              "      <th>max</th>\n",
              "      <td>4687.000000</td>\n",
              "      <td>4063.600000</td>\n",
              "      <td>2017.000000</td>\n",
              "      <td>3.000000</td>\n",
              "    </tr>\n",
              "  </tbody>\n",
              "</table>\n",
              "</div>\n",
              "      <button class=\"colab-df-convert\" onclick=\"convertToInteractive('df-de012159-94a8-4f92-9555-acff75d71d6f')\"\n",
              "              title=\"Convert this dataframe to an interactive table.\"\n",
              "              style=\"display:none;\">\n",
              "        \n",
              "  <svg xmlns=\"http://www.w3.org/2000/svg\" height=\"24px\"viewBox=\"0 0 24 24\"\n",
              "       width=\"24px\">\n",
              "    <path d=\"M0 0h24v24H0V0z\" fill=\"none\"/>\n",
              "    <path d=\"M18.56 5.44l.94 2.06.94-2.06 2.06-.94-2.06-.94-.94-2.06-.94 2.06-2.06.94zm-11 1L8.5 8.5l.94-2.06 2.06-.94-2.06-.94L8.5 2.5l-.94 2.06-2.06.94zm10 10l.94 2.06.94-2.06 2.06-.94-2.06-.94-.94-2.06-.94 2.06-2.06.94z\"/><path d=\"M17.41 7.96l-1.37-1.37c-.4-.4-.92-.59-1.43-.59-.52 0-1.04.2-1.43.59L10.3 9.45l-7.72 7.72c-.78.78-.78 2.05 0 2.83L4 21.41c.39.39.9.59 1.41.59.51 0 1.02-.2 1.41-.59l7.78-7.78 2.81-2.81c.8-.78.8-2.07 0-2.86zM5.41 20L4 18.59l7.72-7.72 1.47 1.35L5.41 20z\"/>\n",
              "  </svg>\n",
              "      </button>\n",
              "      \n",
              "  <style>\n",
              "    .colab-df-container {\n",
              "      display:flex;\n",
              "      flex-wrap:wrap;\n",
              "      gap: 12px;\n",
              "    }\n",
              "\n",
              "    .colab-df-convert {\n",
              "      background-color: #E8F0FE;\n",
              "      border: none;\n",
              "      border-radius: 50%;\n",
              "      cursor: pointer;\n",
              "      display: none;\n",
              "      fill: #1967D2;\n",
              "      height: 32px;\n",
              "      padding: 0 0 0 0;\n",
              "      width: 32px;\n",
              "    }\n",
              "\n",
              "    .colab-df-convert:hover {\n",
              "      background-color: #E2EBFA;\n",
              "      box-shadow: 0px 1px 2px rgba(60, 64, 67, 0.3), 0px 1px 3px 1px rgba(60, 64, 67, 0.15);\n",
              "      fill: #174EA6;\n",
              "    }\n",
              "\n",
              "    [theme=dark] .colab-df-convert {\n",
              "      background-color: #3B4455;\n",
              "      fill: #D2E3FC;\n",
              "    }\n",
              "\n",
              "    [theme=dark] .colab-df-convert:hover {\n",
              "      background-color: #434B5C;\n",
              "      box-shadow: 0px 1px 3px 1px rgba(0, 0, 0, 0.15);\n",
              "      filter: drop-shadow(0px 1px 2px rgba(0, 0, 0, 0.3));\n",
              "      fill: #FFFFFF;\n",
              "    }\n",
              "  </style>\n",
              "\n",
              "      <script>\n",
              "        const buttonEl =\n",
              "          document.querySelector('#df-de012159-94a8-4f92-9555-acff75d71d6f button.colab-df-convert');\n",
              "        buttonEl.style.display =\n",
              "          google.colab.kernel.accessAllowed ? 'block' : 'none';\n",
              "\n",
              "        async function convertToInteractive(key) {\n",
              "          const element = document.querySelector('#df-de012159-94a8-4f92-9555-acff75d71d6f');\n",
              "          const dataTable =\n",
              "            await google.colab.kernel.invokeFunction('convertToInteractive',\n",
              "                                                     [key], {});\n",
              "          if (!dataTable) return;\n",
              "\n",
              "          const docLinkHtml = 'Like what you see? Visit the ' +\n",
              "            '<a target=\"_blank\" href=https://colab.research.google.com/notebooks/data_table.ipynb>data table notebook</a>'\n",
              "            + ' to learn more about interactive tables.';\n",
              "          element.innerHTML = '';\n",
              "          dataTable['output_type'] = 'display_data';\n",
              "          await google.colab.output.renderOutput(dataTable, element);\n",
              "          const docLink = document.createElement('div');\n",
              "          docLink.innerHTML = docLinkHtml;\n",
              "          element.appendChild(docLink);\n",
              "        }\n",
              "      </script>\n",
              "    </div>\n",
              "  </div>\n",
              "  "
            ]
          },
          "metadata": {},
          "execution_count": 71
        }
      ]
    },
    {
      "cell_type": "markdown",
      "source": [
        "- Creating pipeline to scale numerical values (Standard Scalar)\n",
        "- Creating pipeline to convert Categorical data to Encode (OrdinalEncoder)\n",
        "- Creating pipeline to convert Nominal (if any) (OneHotEncoder)"
      ],
      "metadata": {
        "id": "Idrz6mgozvR5"
      }
    },
    {
      "cell_type": "code",
      "source": [
        "\n",
        "# Importing essential libraries for bulding pipeline\n",
        "from sklearn.pipeline import make_pipeline\n",
        "from sklearn.compose import ColumnTransformer"
      ],
      "metadata": {
        "id": "88_p1hQNzjrh"
      },
      "execution_count": null,
      "outputs": []
    },
    {
      "cell_type": "code",
      "source": [
        "num_cols = ['loanAmount','paymentAmount', 'year']\n",
        "numeric_pipeline = make_pipeline(StandardScaler())"
      ],
      "metadata": {
        "id": "n3w5ds6b1fwh"
      },
      "execution_count": null,
      "outputs": []
    },
    {
      "cell_type": "code",
      "source": [
        "# Ordinal is used on inheritable dataset/type. Education level, month etc\n",
        "\n",
        "ord_cols = ['month']\n",
        "ordinal_pipeline = make_pipeline(OrdinalEncoder(categories=[['January','February','March', \n",
        "                                                             'April', 'May', 'June', 'July', \n",
        "                                                             'August', 'September', 'October', \n",
        "                                                             'November', 'December']]))"
      ],
      "metadata": {
        "id": "dqSU_4hF2EzO"
      },
      "execution_count": null,
      "outputs": []
    },
    {
      "cell_type": "code",
      "source": [
        "# nominal is used for non-inheritable categories. Loan types etc\n",
        "\n",
        "nom_cols = ['loanStatus', 'paymentStatus']\n",
        "nominal_pipeline = make_pipeline(OneHotEncoder())"
      ],
      "metadata": {
        "id": "l6i-tpP33JJh"
      },
      "execution_count": null,
      "outputs": []
    },
    {
      "cell_type": "code",
      "source": [
        "# stack your pipelines in column transformer\n",
        "transformer = ColumnTransformer(transformers=[('num',numeric_pipeline,num_cols),\n",
        "                                           ('ordinal', ordinal_pipeline,ord_cols),\n",
        "                                              ('nominal' ,nominal_pipeline,nom_cols)\n",
        "                                             ])"
      ],
      "metadata": {
        "id": "JkTNJTMK4QuL"
      },
      "execution_count": null,
      "outputs": []
    },
    {
      "cell_type": "code",
      "source": [
        "transformer"
      ],
      "metadata": {
        "colab": {
          "base_uri": "https://localhost:8080/"
        },
        "id": "noHRaXgX4WDj",
        "outputId": "0b233c8c-dc0d-47f2-eede-70066d63742b"
      },
      "execution_count": null,
      "outputs": [
        {
          "output_type": "execute_result",
          "data": {
            "text/plain": [
              "ColumnTransformer(transformers=[('num',\n",
              "                                 Pipeline(steps=[('standardscaler',\n",
              "                                                  StandardScaler())]),\n",
              "                                 ['loanAmount', 'paymentAmount', 'year']),\n",
              "                                ('ordinal',\n",
              "                                 Pipeline(steps=[('ordinalencoder',\n",
              "                                                  OrdinalEncoder(categories=[['January',\n",
              "                                                                              'February',\n",
              "                                                                              'March',\n",
              "                                                                              'April',\n",
              "                                                                              'May',\n",
              "                                                                              'June',\n",
              "                                                                              'July',\n",
              "                                                                              'August',\n",
              "                                                                              'September',\n",
              "                                                                              'October',\n",
              "                                                                              'November',\n",
              "                                                                              'December']]))]),\n",
              "                                 ['month']),\n",
              "                                ('nominal',\n",
              "                                 Pipeline(steps=[('onehotencoder',\n",
              "                                                  OneHotEncoder())]),\n",
              "                                 ['loanStatus', 'paymentStatus'])])"
            ]
          },
          "metadata": {},
          "execution_count": 47
        }
      ]
    },
    {
      "cell_type": "code",
      "source": [
        "transformed = transformer.fit_transform(subset)\n",
        "print('Data has been Transformed')"
      ],
      "metadata": {
        "colab": {
          "base_uri": "https://localhost:8080/"
        },
        "id": "wO-pN6si4YVQ",
        "outputId": "199afaef-bfbe-4a4e-acc9-494d9751fcdd"
      },
      "execution_count": null,
      "outputs": [
        {
          "output_type": "stream",
          "name": "stdout",
          "text": [
            "Data has been Transformed\n"
          ]
        }
      ]
    },
    {
      "cell_type": "markdown",
      "source": [
        "## Finding the elbow"
      ],
      "metadata": {
        "id": "dtte1zY95qzq"
      }
    },
    {
      "cell_type": "code",
      "source": [
        "plt.figure(figsize=(12, 8))\n",
        "elbow_graph = KElbowVisualizer(KMeans(random_state=43), k=10)\n",
        "elbow_graph.fit(transformed)\n",
        "elbow_graph.show()"
      ],
      "metadata": {
        "colab": {
          "base_uri": "https://localhost:8080/",
          "height": 530
        },
        "id": "L45kpBqu4cpj",
        "outputId": "a69362b6-03c1-4ad8-a17f-b7b0e4281440"
      },
      "execution_count": null,
      "outputs": [
        {
          "output_type": "display_data",
          "data": {
            "text/plain": [
              "<Figure size 864x576 with 2 Axes>"
            ],
            "image/png": "[encoded data removed]"
          },
          "metadata": {}
        },
        {
          "output_type": "execute_result",
          "data": {
            "text/plain": [
              "<matplotlib.axes._subplots.AxesSubplot at 0x7f3f42b9c280>"
            ]
          },
          "metadata": {},
          "execution_count": 69
        }
      ]
    },
    {
      "cell_type": "markdown",
      "source": [
        "Algorithm suggest k=4, therefore, adding more clusters beyond 4 does not lead to a significant improvement in clustering performance."
      ],
      "metadata": {
        "id": "ir8_u9jZ6v5z"
      }
    },
    {
      "cell_type": "code",
      "source": [
        "# using k-means to form clusters\n",
        "kmeans = KMeans(n_clusters=4, random_state=42)\n",
        "subset['Clusters'] = kmeans.fit_predict(transformed)"
      ],
      "metadata": {
        "id": "xnBfpxUj5tDk"
      },
      "execution_count": null,
      "outputs": []
    },
    {
      "cell_type": "code",
      "source": [
        "subset"
      ],
      "metadata": {
        "colab": {
          "base_uri": "https://localhost:8080/",
          "height": 424
        },
        "id": "5ycOVCcC6953",
        "outputId": "9295024f-30ec-4e6f-daa1-6ad07b50a201"
      },
      "execution_count": null,
      "outputs": [
        {
          "output_type": "execute_result",
          "data": {
            "text/plain": [
              "           loanStatus  loanAmount leadType  paymentAmount paymentStatus  \\\n",
              "0       Paid Off Loan       800.0     lead         500.00       Checked   \n",
              "1       Paid Off Loan       800.0     lead         174.48     Cancelled   \n",
              "2       Paid Off Loan       800.0     lead         174.48     Cancelled   \n",
              "3       Paid Off Loan       800.0     lead         174.48     Cancelled   \n",
              "4       Paid Off Loan       800.0     lead         174.48     Cancelled   \n",
              "...               ...         ...      ...            ...           ...   \n",
              "671270       New Loan       500.0     lead          63.29          None   \n",
              "671271       New Loan       500.0     lead          63.29          None   \n",
              "671272       New Loan       500.0     lead          63.29          None   \n",
              "671273       New Loan       500.0     lead          63.29          None   \n",
              "671274       New Loan       500.0     lead          63.29          None   \n",
              "\n",
              "           month  year  Clusters  \n",
              "0       December  2014         0  \n",
              "1       December  2014         0  \n",
              "2       December  2014         0  \n",
              "3       December  2014         0  \n",
              "4       December  2014         0  \n",
              "...          ...   ...       ...  \n",
              "671270     March  2017         1  \n",
              "671271     March  2017         1  \n",
              "671272     March  2017         1  \n",
              "671273     March  2017         1  \n",
              "671274     March  2017         1  \n",
              "\n",
              "[671275 rows x 8 columns]"
            ],
            "text/html": [
              "\n",
              "  <div id=\"df-25889a64-0ef8-4ea4-9768-c04f84f41a98\">\n",
              "    <div class=\"colab-df-container\">\n",
              "      <div>\n",
              "<style scoped>\n",
              "    .dataframe tbody tr th:only-of-type {\n",
              "        vertical-align: middle;\n",
              "    }\n",
              "\n",
              "    .dataframe tbody tr th {\n",
              "        vertical-align: top;\n",
              "    }\n",
              "\n",
              "    .dataframe thead th {\n",
              "        text-align: right;\n",
              "    }\n",
              "</style>\n",
              "<table border=\"1\" class=\"dataframe\">\n",
              "  <thead>\n",
              "    <tr style=\"text-align: right;\">\n",
              "      <th></th>\n",
              "      <th>loanStatus</th>\n",
              "      <th>loanAmount</th>\n",
              "      <th>leadType</th>\n",
              "      <th>paymentAmount</th>\n",
              "      <th>paymentStatus</th>\n",
              "      <th>month</th>\n",
              "      <th>year</th>\n",
              "      <th>Clusters</th>\n",
              "    </tr>\n",
              "  </thead>\n",
              "  <tbody>\n",
              "    <tr>\n",
              "      <th>0</th>\n",
              "      <td>Paid Off Loan</td>\n",
              "      <td>800.0</td>\n",
              "      <td>lead</td>\n",
              "      <td>500.00</td>\n",
              "      <td>Checked</td>\n",
              "      <td>December</td>\n",
              "      <td>2014</td>\n",
              "      <td>0</td>\n",
              "    </tr>\n",
              "    <tr>\n",
              "      <th>1</th>\n",
              "      <td>Paid Off Loan</td>\n",
              "      <td>800.0</td>\n",
              "      <td>lead</td>\n",
              "      <td>174.48</td>\n",
              "      <td>Cancelled</td>\n",
              "      <td>December</td>\n",
              "      <td>2014</td>\n",
              "      <td>0</td>\n",
              "    </tr>\n",
              "    <tr>\n",
              "      <th>2</th>\n",
              "      <td>Paid Off Loan</td>\n",
              "      <td>800.0</td>\n",
              "      <td>lead</td>\n",
              "      <td>174.48</td>\n",
              "      <td>Cancelled</td>\n",
              "      <td>December</td>\n",
              "      <td>2014</td>\n",
              "      <td>0</td>\n",
              "    </tr>\n",
              "    <tr>\n",
              "      <th>3</th>\n",
              "      <td>Paid Off Loan</td>\n",
              "      <td>800.0</td>\n",
              "      <td>lead</td>\n",
              "      <td>174.48</td>\n",
              "      <td>Cancelled</td>\n",
              "      <td>December</td>\n",
              "      <td>2014</td>\n",
              "      <td>0</td>\n",
              "    </tr>\n",
              "    <tr>\n",
              "      <th>4</th>\n",
              "      <td>Paid Off Loan</td>\n",
              "      <td>800.0</td>\n",
              "      <td>lead</td>\n",
              "      <td>174.48</td>\n",
              "      <td>Cancelled</td>\n",
              "      <td>December</td>\n",
              "      <td>2014</td>\n",
              "      <td>0</td>\n",
              "    </tr>\n",
              "    <tr>\n",
              "      <th>...</th>\n",
              "      <td>...</td>\n",
              "      <td>...</td>\n",
              "      <td>...</td>\n",
              "      <td>...</td>\n",
              "      <td>...</td>\n",
              "      <td>...</td>\n",
              "      <td>...</td>\n",
              "      <td>...</td>\n",
              "    </tr>\n",
              "    <tr>\n",
              "      <th>671270</th>\n",
              "      <td>New Loan</td>\n",
              "      <td>500.0</td>\n",
              "      <td>lead</td>\n",
              "      <td>63.29</td>\n",
              "      <td>None</td>\n",
              "      <td>March</td>\n",
              "      <td>2017</td>\n",
              "      <td>1</td>\n",
              "    </tr>\n",
              "    <tr>\n",
              "      <th>671271</th>\n",
              "      <td>New Loan</td>\n",
              "      <td>500.0</td>\n",
              "      <td>lead</td>\n",
              "      <td>63.29</td>\n",
              "      <td>None</td>\n",
              "      <td>March</td>\n",
              "      <td>2017</td>\n",
              "      <td>1</td>\n",
              "    </tr>\n",
              "    <tr>\n",
              "      <th>671272</th>\n",
              "      <td>New Loan</td>\n",
              "      <td>500.0</td>\n",
              "      <td>lead</td>\n",
              "      <td>63.29</td>\n",
              "      <td>None</td>\n",
              "      <td>March</td>\n",
              "      <td>2017</td>\n",
              "      <td>1</td>\n",
              "    </tr>\n",
              "    <tr>\n",
              "      <th>671273</th>\n",
              "      <td>New Loan</td>\n",
              "      <td>500.0</td>\n",
              "      <td>lead</td>\n",
              "      <td>63.29</td>\n",
              "      <td>None</td>\n",
              "      <td>March</td>\n",
              "      <td>2017</td>\n",
              "      <td>1</td>\n",
              "    </tr>\n",
              "    <tr>\n",
              "      <th>671274</th>\n",
              "      <td>New Loan</td>\n",
              "      <td>500.0</td>\n",
              "      <td>lead</td>\n",
              "      <td>63.29</td>\n",
              "      <td>None</td>\n",
              "      <td>March</td>\n",
              "      <td>2017</td>\n",
              "      <td>1</td>\n",
              "    </tr>\n",
              "  </tbody>\n",
              "</table>\n",
              "<p>671275 rows × 8 columns</p>\n",
              "</div>\n",
              "      <button class=\"colab-df-convert\" onclick=\"convertToInteractive('df-25889a64-0ef8-4ea4-9768-c04f84f41a98')\"\n",
              "              title=\"Convert this dataframe to an interactive table.\"\n",
              "              style=\"display:none;\">\n",
              "        \n",
              "  <svg xmlns=\"http://www.w3.org/2000/svg\" height=\"24px\"viewBox=\"0 0 24 24\"\n",
              "       width=\"24px\">\n",
              "    <path d=\"M0 0h24v24H0V0z\" fill=\"none\"/>\n",
              "    <path d=\"M18.56 5.44l.94 2.06.94-2.06 2.06-.94-2.06-.94-.94-2.06-.94 2.06-2.06.94zm-11 1L8.5 8.5l.94-2.06 2.06-.94-2.06-.94L8.5 2.5l-.94 2.06-2.06.94zm10 10l.94 2.06.94-2.06 2.06-.94-2.06-.94-.94-2.06-.94 2.06-2.06.94z\"/><path d=\"M17.41 7.96l-1.37-1.37c-.4-.4-.92-.59-1.43-.59-.52 0-1.04.2-1.43.59L10.3 9.45l-7.72 7.72c-.78.78-.78 2.05 0 2.83L4 21.41c.39.39.9.59 1.41.59.51 0 1.02-.2 1.41-.59l7.78-7.78 2.81-2.81c.8-.78.8-2.07 0-2.86zM5.41 20L4 18.59l7.72-7.72 1.47 1.35L5.41 20z\"/>\n",
              "  </svg>\n",
              "      </button>\n",
              "      \n",
              "  <style>\n",
              "    .colab-df-container {\n",
              "      display:flex;\n",
              "      flex-wrap:wrap;\n",
              "      gap: 12px;\n",
              "    }\n",
              "\n",
              "    .colab-df-convert {\n",
              "      background-color: #E8F0FE;\n",
              "      border: none;\n",
              "      border-radius: 50%;\n",
              "      cursor: pointer;\n",
              "      display: none;\n",
              "      fill: #1967D2;\n",
              "      height: 32px;\n",
              "      padding: 0 0 0 0;\n",
              "      width: 32px;\n",
              "    }\n",
              "\n",
              "    .colab-df-convert:hover {\n",
              "      background-color: #E2EBFA;\n",
              "      box-shadow: 0px 1px 2px rgba(60, 64, 67, 0.3), 0px 1px 3px 1px rgba(60, 64, 67, 0.15);\n",
              "      fill: #174EA6;\n",
              "    }\n",
              "\n",
              "    [theme=dark] .colab-df-convert {\n",
              "      background-color: #3B4455;\n",
              "      fill: #D2E3FC;\n",
              "    }\n",
              "\n",
              "    [theme=dark] .colab-df-convert:hover {\n",
              "      background-color: #434B5C;\n",
              "      box-shadow: 0px 1px 3px 1px rgba(0, 0, 0, 0.15);\n",
              "      filter: drop-shadow(0px 1px 2px rgba(0, 0, 0, 0.3));\n",
              "      fill: #FFFFFF;\n",
              "    }\n",
              "  </style>\n",
              "\n",
              "      <script>\n",
              "        const buttonEl =\n",
              "          document.querySelector('#df-25889a64-0ef8-4ea4-9768-c04f84f41a98 button.colab-df-convert');\n",
              "        buttonEl.style.display =\n",
              "          google.colab.kernel.accessAllowed ? 'block' : 'none';\n",
              "\n",
              "        async function convertToInteractive(key) {\n",
              "          const element = document.querySelector('#df-25889a64-0ef8-4ea4-9768-c04f84f41a98');\n",
              "          const dataTable =\n",
              "            await google.colab.kernel.invokeFunction('convertToInteractive',\n",
              "                                                     [key], {});\n",
              "          if (!dataTable) return;\n",
              "\n",
              "          const docLinkHtml = 'Like what you see? Visit the ' +\n",
              "            '<a target=\"_blank\" href=https://colab.research.google.com/notebooks/data_table.ipynb>data table notebook</a>'\n",
              "            + ' to learn more about interactive tables.';\n",
              "          element.innerHTML = '';\n",
              "          dataTable['output_type'] = 'display_data';\n",
              "          await google.colab.output.renderOutput(dataTable, element);\n",
              "          const docLink = document.createElement('div');\n",
              "          docLink.innerHTML = docLinkHtml;\n",
              "          element.appendChild(docLink);\n",
              "        }\n",
              "      </script>\n",
              "    </div>\n",
              "  </div>\n",
              "  "
            ]
          },
          "metadata": {},
          "execution_count": 72
        }
      ]
    },
    {
      "cell_type": "code",
      "source": [
        "plt.figure(figsize=(12, 8))\n",
        "sns.countplot(x='Clusters', data=subset)\n",
        "plt.title('Customer Distribution Within Clusters')\n",
        "plt.show()"
      ],
      "metadata": {
        "colab": {
          "base_uri": "https://localhost:8080/",
          "height": 512
        },
        "id": "-tZJLP1v7Bqp",
        "outputId": "4d847371-b37b-48f1-d7ae-bc121677226e"
      },
      "execution_count": null,
      "outputs": [
        {
          "output_type": "display_data",
          "data": {
            "text/plain": [
              "<Figure size 864x576 with 1 Axes>"
            ],
            "image/png": "[encoded data removed]"
          },
          "metadata": {}
        }
      ]
    },
    {
      "cell_type": "code",
      "source": [],
      "metadata": {
        "id": "xxw87twM7OJb"
      },
      "execution_count": null,
      "outputs": []
    },
    {
      "cell_type": "code",
      "source": [
        "# Find out the customers which belongs to which loanStatus\n",
        "plt.figure(figsize=(12, 8))\n",
        "sns.barplot(x=subset[\"Clusters\"], y=subset[\"loanStatus\"])\n",
        "plt.title(\"loanStatus vs Clusters\", size=15)\n",
        "plt.show()\n",
        "\n",
        "### EXAMPLE ## this cannot be done because loanStatus is not numerical.\n",
        "## for ordinal, need to use stacked barplot"
      ],
      "metadata": {
        "colab": {
          "base_uri": "https://localhost:8080/",
          "height": 514
        },
        "id": "mYRv8ZwJ77I6",
        "outputId": "ae8266a7-a5b0-475c-9916-eb54cf15c73f"
      },
      "execution_count": null,
      "outputs": [
        {
          "output_type": "display_data",
          "data": {
            "text/plain": [
              "<Figure size 864x576 with 1 Axes>"
            ],
            "image/png": "[encoded data removed]"
          },
          "metadata": {}
        }
      ]
    },
    {
      "cell_type": "code",
      "source": [
        "# Find out the customers which belongs to which loanAmount\n",
        "plt.figure(figsize=(12, 8))\n",
        "sns.barplot(x=subset[\"Clusters\"], y=subset[\"loanAmount\"])\n",
        "plt.title(\"loanAmount vs Clusters\", size=15)\n",
        "plt.show()"
      ],
      "metadata": {
        "colab": {
          "base_uri": "https://localhost:8080/",
          "height": 514
        },
        "id": "QJCzWlKjDUTi",
        "outputId": "fbedfb36-bfed-4960-dc0e-9ac7de002f36"
      },
      "execution_count": null,
      "outputs": [
        {
          "output_type": "display_data",
          "data": {
            "text/plain": [
              "<Figure size 864x576 with 1 Axes>"
            ],
            "image/png": "[encoded data removed]"
          },
          "metadata": {}
        }
      ]
    },
    {
      "cell_type": "code",
      "source": [
        "# Find out the customers which belongs to which paymentAmount\n",
        "plt.figure(figsize=(12, 8))\n",
        "sns.barplot(x=subset[\"Clusters\"], y=subset[\"paymentAmount\"])\n",
        "plt.title(\"paymentAmount vs Clusters\", size=15)\n",
        "plt.show()"
      ],
      "metadata": {
        "colab": {
          "base_uri": "https://localhost:8080/",
          "height": 514
        },
        "id": "E3CgjjOH-2Kq",
        "outputId": "97ce3bef-5780-4e05-d9bd-cdd5a1b925d4"
      },
      "execution_count": null,
      "outputs": [
        {
          "output_type": "display_data",
          "data": {
            "text/plain": [
              "<Figure size 864x576 with 1 Axes>"
            ],
            "image/png": "[encoded data removed]"
          },
          "metadata": {}
        }
      ]
    },
    {
      "cell_type": "code",
      "source": [
        "# Count the number of customers for each loanStatus within each cluster\n",
        "cross_tab = pd.crosstab(subset['Clusters'], subset['loanStatus'])\n",
        "\n",
        "# Create a stacked bar chart\n",
        "cross_tab.plot(kind='bar', stacked=True, figsize=(12,8))\n",
        "\n",
        "# Add labels and title\n",
        "plt.title(\"Loan Status by Clusters\", size=15)\n",
        "plt.xlabel(\"Clusters\")\n",
        "plt.ylabel(\"Count\")\n",
        "plt.show()"
      ],
      "metadata": {
        "colab": {
          "base_uri": "https://localhost:8080/",
          "height": 509
        },
        "id": "RVVp6jNoBULQ",
        "outputId": "008e8cb8-5882-4ac3-8761-d0cf30409404"
      },
      "execution_count": null,
      "outputs": [
        {
          "output_type": "display_data",
          "data": {
            "text/plain": [
              "<Figure size 864x576 with 1 Axes>"
            ],
            "image/png": "[encoded data removed]"
          },
          "metadata": {}
        }
      ]
    },
    {
      "cell_type": "code",
      "source": [
        "# Count the number of customers for each paymentStatus within each cluster\n",
        "cross_tab2 = pd.crosstab(subset['Clusters'], subset['paymentStatus'])\n",
        "\n",
        "# Create a stacked bar chart\n",
        "cross_tab2.plot(kind='bar', stacked=True, figsize=(12,8))\n",
        "\n",
        "# Add labels and title\n",
        "plt.title(\"Payment Status by Clusters\", size=15)\n",
        "plt.xlabel(\"Clusters\")\n",
        "plt.ylabel(\"Count\")\n",
        "plt.show()\n"
      ],
      "metadata": {
        "colab": {
          "base_uri": "https://localhost:8080/",
          "height": 509
        },
        "id": "7eAbsIxRBMhO",
        "outputId": "166e2ef8-672a-4d7c-a08b-f8ed69a61cdf"
      },
      "execution_count": null,
      "outputs": [
        {
          "output_type": "display_data",
          "data": {
            "text/plain": [
              "<Figure size 864x576 with 1 Axes>"
            ],
            "image/png": "[encoded data removed]"
          },
          "metadata": {}
        }
      ]
    },
    {
      "cell_type": "code",
      "source": [
        "%%shell\n",
        "jupyter nbconvert --to html ////content/Akmal_customer_profile.ipynb"
      ],
      "metadata": {
        "colab": {
          "base_uri": "https://localhost:8080/"
        },
        "id": "QZn1iL0tBOUK",
        "outputId": "1f27aef0-f5fc-4b97-ed6f-542a864e16cf"
      },
      "execution_count": null,
      "outputs": [
        {
          "output_type": "stream",
          "name": "stdout",
          "text": [
            "[NbConvertApp] Converting notebook ////content/Akmal_customer_profile.ipynb to html\n",
            "[NbConvertApp] Writing 565893 bytes to ////content/Akmal_customer_profile.html\n"
          ]
        },
        {
          "output_type": "execute_result",
          "data": {
            "text/plain": []
          },
          "metadata": {},
          "execution_count": 86
        }
      ]
    },
    {
      "cell_type": "markdown",
      "source": [],
      "metadata": {
        "id": "9kYDCqHN16au"
      }
    }
  ]
}